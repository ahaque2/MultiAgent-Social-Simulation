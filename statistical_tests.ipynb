{
 "cells": [
  {
   "cell_type": "markdown",
   "metadata": {},
   "source": [
    "### Code for statistical tests to compare metrics across different experimental setups"
   ]
  },
  {
   "cell_type": "code",
   "execution_count": null,
   "metadata": {},
   "outputs": [],
   "source": [
    "import scipy.stats as stats\n",
    "import pandas as pd\n",
    "import numpy as np\n",
    "import sys\n",
    "from scipy.stats import ranksums\n",
    "\n",
    "import numpy as np\n",
    "import statsmodels.api as statmod\n",
    "import matplotlib.pyplot as plt"
   ]
  },
  {
   "cell_type": "code",
   "execution_count": 5,
   "metadata": {},
   "outputs": [],
   "source": [
    "# # df_final_data = pd.read_csv('results/new_results_3/SE/final_data_100.csv')\n",
    "# run = str(runs[7])\n",
    "# df_results_high = pd.read_csv('results/final_results/TOL/results_' + run + '0.csv')\n",
    "# df_results_med = pd.read_csv('results/final_results/TOL/results_' + run + '1.csv')\n",
    "# df_results_low = pd.read_csv('results/final_results/TOL/results_' + run + '2.csv')\n",
    "# df_results_high.columns"
   ]
  },
  {
   "cell_type": "code",
   "execution_count": 6,
   "metadata": {},
   "outputs": [],
   "source": [
    "df_1 = pd.read_csv('results/final_results/SE_avg/results_none.csv')\n",
    "df_2 = pd.read_csv('results/final_results/SE_avg/results_high.csv')\n",
    "df_3 = pd.read_csv('results/final_results/SE_avg/results_med.csv')\n",
    "df_4 = pd.read_csv('results/final_results/SE_avg/results_low.csv')"
   ]
  },
  {
   "cell_type": "code",
   "execution_count": null,
   "metadata": {},
   "outputs": [],
   "source": [
    "# df_1 = pd.read_csv('results/final_results/TOL_avg/TOL_high_avg.csv')\n",
    "# df_2 = pd.read_csv('results/final_results/TOL_avg/TOL_med_avg.csv')\n",
    "# df_3 = pd.read_csv('results/final_results/TOL_avg/TOL_low_avg.csv')"
   ]
  },
  {
   "cell_type": "code",
   "execution_count": null,
   "metadata": {},
   "outputs": [],
   "source": [
    "df_1.columns"
   ]
  },
  {
   "cell_type": "code",
   "execution_count": null,
   "metadata": {},
   "outputs": [],
   "source": [
    "# stats.f_oneway(df_1['net_polarization2'].iloc[0:10], df_2['net_polarization2'].iloc[0:10], df_3['net_polarization2'].iloc[0:10], df_4['net_polarization2'].iloc[0:10])\n",
    "# stats.f_oneway(df_1['net_polarization2'], df_2['net_polarization2'])"
   ]
  },
  {
   "cell_type": "code",
   "execution_count": 126,
   "metadata": {},
   "outputs": [],
   "source": [
    "# #create dataset with 100 values that follow a normal distribution\n",
    "# data = np.random.normal(0,1,100)\n",
    "# #create Q-Q plot with 45-degree line added to plot\n",
    "# fig = statmod.qqplot(data, line='45')\n",
    "# plt.show()"
   ]
  },
  {
   "cell_type": "markdown",
   "metadata": {},
   "source": [
    "## Initial Population's Basic Distribution stats"
   ]
  },
  {
   "cell_type": "code",
   "execution_count": null,
   "metadata": {},
   "outputs": [],
   "source": [
    "from scipy.stats import skew, kurtosis\n",
    "\n",
    "kur_ua, kur_pov, kur_pp = [], [], []\n",
    "avg_pp, avg_pol, avg_ua = [], [], []\n",
    "std_pp, std_pol, std_ua = [], [], []\n",
    "for i in range(1,11):\n",
    "    data = pd.read_csv('src/data/initial_data_' + str(i) + '.csv')\n",
    "#     print(kurtosis(data['user_activity'], bias=False), kurtosis(data['pol_inclination'], bias=False))\n",
    "    avg_pp.append(data['privacy_preference'].mean())\n",
    "    std_pp.append(data['privacy_preference'].std())\n",
    "    avg_pol.append(data['pol_inclination'].mean())\n",
    "    std_pol.append(data['pol_inclination'].std())\n",
    "    avg_ua.append(data['user_activity'].mean())\n",
    "    std_ua.append(data['user_activity'].std())\n",
    "    kur_ua.append(kurtosis(data['user_activity'], bias=False))\n",
    "    kur_pov.append(kurtosis(data['pol_inclination'], bias=False))\n",
    "    kur_pp.append(kurtosis(data['privacy_preference'], bias=False))\n",
    "    \n",
    "print(sum(kur_ua)/len(kur_ua), sum(kur_pov)/len(kur_pov), sum(kur_pp)/len(kur_pp))\n",
    "print(sum(avg_ua)/len(avg_ua), sum(avg_pol)/len(avg_pol), sum(avg_pp)/len(avg_pp))\n",
    "print(sum(std_ua)/len(std_ua), sum(std_pol)/len(std_pol), sum(std_pp)/len(std_pp))"
   ]
  },
  {
   "cell_type": "code",
   "execution_count": null,
   "metadata": {},
   "outputs": [],
   "source": [
    "df_1['net_polarization2'].describe()"
   ]
  },
  {
   "cell_type": "code",
   "execution_count": null,
   "metadata": {},
   "outputs": [],
   "source": []
  },
  {
   "cell_type": "code",
   "execution_count": null,
   "metadata": {},
   "outputs": [],
   "source": []
  },
  {
   "cell_type": "code",
   "execution_count": null,
   "metadata": {},
   "outputs": [],
   "source": []
  },
  {
   "cell_type": "code",
   "execution_count": null,
   "metadata": {},
   "outputs": [],
   "source": []
  },
  {
   "cell_type": "markdown",
   "metadata": {},
   "source": [
    "## Normality Test"
   ]
  },
  {
   "cell_type": "code",
   "execution_count": 127,
   "metadata": {},
   "outputs": [],
   "source": [
    "from scipy import stats\n",
    "import matplotlib.pyplot as plt"
   ]
  },
  {
   "cell_type": "code",
   "execution_count": 128,
   "metadata": {},
   "outputs": [
    {
     "data": {
      "text/plain": [
       "Index(['Unnamed: 0', 'Unnamed: 0.1', 'id', 'user_activity', 'pol_interest',\n",
       "       'privacy_preference', 'user_satisfaction', 'issue_0', 'issue_1',\n",
       "       'issue_2', 'issue_3', 'issue_4', 'issue_5', 'pol_inclination'],\n",
       "      dtype='object')"
      ]
     },
     "execution_count": 128,
     "metadata": {},
     "output_type": "execute_result"
    }
   ],
   "source": [
    "final_data = pd.read_csv('results/final_results/SE_avg/final_data_low.csv')\n",
    "initial_data = pd.read_csv('src/data/initial_data_1.csv')\n",
    "final_data.columns"
   ]
  },
  {
   "cell_type": "code",
   "execution_count": 129,
   "metadata": {},
   "outputs": [],
   "source": [
    "final_data['pov_change'] = final_data['pol_inclination'] - initial_data['pol_inclination']"
   ]
  },
  {
   "cell_type": "code",
   "execution_count": 130,
   "metadata": {},
   "outputs": [
    {
     "data": {
      "text/plain": [
       "count    4039.000000\n",
       "mean       -0.002544\n",
       "std         0.226337\n",
       "min        -0.787282\n",
       "25%        -0.153408\n",
       "50%        -0.001036\n",
       "75%         0.149737\n",
       "max         0.766891\n",
       "Name: pov_change, dtype: float64"
      ]
     },
     "execution_count": 130,
     "metadata": {},
     "output_type": "execute_result"
    }
   ],
   "source": [
    "final_data['pov_change'].describe()"
   ]
  },
  {
   "cell_type": "code",
   "execution_count": null,
   "metadata": {},
   "outputs": [],
   "source": []
  },
  {
   "cell_type": "code",
   "execution_count": null,
   "metadata": {},
   "outputs": [],
   "source": []
  },
  {
   "cell_type": "code",
   "execution_count": 131,
   "metadata": {},
   "outputs": [],
   "source": [
    "final_data1 = pd.read_csv('results/final_results/TOL_avg/final_data_low.csv')\n",
    "final_data2 = pd.read_csv('results/final_results/TOL_avg/final_data_high.csv')"
   ]
  },
  {
   "cell_type": "code",
   "execution_count": 146,
   "metadata": {},
   "outputs": [
    {
     "name": "stderr",
     "output_type": "stream",
     "text": [
      "/home/ahaque2/venv/new_env/lib/python3.8/site-packages/seaborn/distributions.py:2619: FutureWarning: `distplot` is a deprecated function and will be removed in a future version. Please adapt your code to use either `displot` (a figure-level function with similar flexibility) or `histplot` (an axes-level function for histograms).\n",
      "  warnings.warn(msg, FutureWarning)\n"
     ]
    },
    {
     "data": {
      "image/png": "[encoded data removed]",
      "text/plain": [
       "<Figure size 800x400 with 1 Axes>"
      ]
     },
     "metadata": {},
     "output_type": "display_data"
    }
   ],
   "source": [
    "fig = plt.figure(figsize=(8, 4))\n",
    "ax = fig.add_subplot()\n",
    "import seaborn as sns\n",
    "sns.distplot(df1['net_polarization2'],ax=ax)\n",
    "# sns.distplot(final_data1['pol_inclination'],ax=ax)\n",
    "plt.show()"
   ]
  },
  {
   "cell_type": "code",
   "execution_count": 148,
   "metadata": {},
   "outputs": [
    {
     "data": {
      "text/plain": [
       "ShapiroResult(statistic=0.7773240804672241, pvalue=0.0)"
      ]
     },
     "execution_count": 148,
     "metadata": {},
     "output_type": "execute_result"
    },
    {
     "data": {
      "image/png": "[encoded data removed]",
      "text/plain": [
       "<Figure size 640x480 with 1 Axes>"
      ]
     },
     "metadata": {},
     "output_type": "display_data"
    }
   ],
   "source": [
    "stats.probplot(df1['net_polarization2'], dist=\"norm\", plot=plt)\n",
    "stats.shapiro(df2['net_polarization2'])\n",
    "# stats.probplot(df_1['network_polarization'], dist=\"norm\", plot=plt)"
   ]
  },
  {
   "cell_type": "code",
   "execution_count": 149,
   "metadata": {},
   "outputs": [
    {
     "data": {
      "text/plain": [
       "ShapiroResult(statistic=0.9997969269752502, pvalue=0.980003833770752)"
      ]
     },
     "execution_count": 149,
     "metadata": {},
     "output_type": "execute_result"
    },
    {
     "data": {
      "image/png": "[encoded data removed]",
      "text/plain": [
       "<Figure size 640x480 with 1 Axes>"
      ]
     },
     "metadata": {},
     "output_type": "display_data"
    }
   ],
   "source": [
    "stats.probplot(initial_data['pol_inclination'], dist=\"norm\", plot=plt)\n",
    "stats.shapiro(initial_data['pol_inclination'])"
   ]
  },
  {
   "cell_type": "code",
   "execution_count": null,
   "metadata": {},
   "outputs": [],
   "source": []
  },
  {
   "cell_type": "code",
   "execution_count": 156,
   "metadata": {},
   "outputs": [
    {
     "data": {
      "text/plain": [
       "Index(['Unnamed: 0', 'party_mentioned', 'post_stance', 'author_id',\n",
       "       'num_of_agents_received', 'num_of_agents_not_received',\n",
       "       'num_of_spreader_agents', 'num_of_disinterested_agents',\n",
       "       'network_polarization', 'net_polarization2', 'network_homophily',\n",
       "       'network_homophily2', 'network_polarity', 'user_satisfaction',\n",
       "       'user_activity'],\n",
       "      dtype='object')"
      ]
     },
     "execution_count": 156,
     "metadata": {},
     "output_type": "execute_result"
    }
   ],
   "source": [
    "none_se_data.columns"
   ]
  },
  {
   "cell_type": "markdown",
   "metadata": {},
   "source": [
    "## Non-parametric Statistical Significance Testing (Comparing overall network metrics for different levels of SE and TOL)"
   ]
  },
  {
   "cell_type": "code",
   "execution_count": 162,
   "metadata": {},
   "outputs": [
    {
     "name": "stdout",
     "output_type": "stream",
     "text": [
      "low \t KruskalResult(statistic=1336.617654101415, pvalue=1.2467413238513168e-292)\n",
      "\n",
      "med \t KruskalResult(statistic=2918.2246779537986, pvalue=0.0)\n",
      "\n",
      "high \t KruskalResult(statistic=4317.151698007525, pvalue=0.0)\n",
      "\n"
     ]
    }
   ],
   "source": [
    "from scipy.stats import kruskal\n",
    "none_se_data = pd.read_csv('results/final_results/SE_avg/results_none.csv')\n",
    "attr = 'net_polarization2'\n",
    "for se_lev in ['low', 'med', 'high']:\n",
    "    final_data = pd.read_csv('results/final_results/SE_avg/results_' + se_lev + '.csv')\n",
    "    print(se_lev, \"\\t\", kruskal(none_se_data[attr], final_data[attr]))\n",
    "    print()"
   ]
  },
  {
   "cell_type": "code",
   "execution_count": 211,
   "metadata": {},
   "outputs": [
    {
     "name": "stdout",
     "output_type": "stream",
     "text": [
      "low \t            Source  ddof1         H     p-unc\n",
      "Kruskal  SE_level      1  4.001361  0.045464 \t 0.0004008174769952874\n",
      "med \t            Source  ddof1            H  p-unc\n",
      "Kruskal  SE_level      1  1813.118253    0.0 \t 0.18162058032905157\n",
      "high \t            Source  ddof1            H  p-unc\n",
      "Kruskal  SE_level      1  6349.251004    0.0 \t 0.6360063110943485\n"
     ]
    }
   ],
   "source": [
    "from pingouin import kruskal\n",
    "none_se_data = pd.read_csv('results/final_results/SE_avg/results_none.csv')\n",
    "attr = 'network_homophily'\n",
    "for se_lev in ['low', 'med', 'high']:\n",
    "    final_data = pd.read_csv('results/final_results/SE_avg/results_' + se_lev + '.csv')\n",
    "    none_se_data['SE_level'] = ['none'] * none_se_data.shape[0]\n",
    "    final_data['SE_level'] = [se_lev] * final_data.shape[0]\n",
    "    temp_df = pd.concat((none_se_data, final_data), axis = 0)\n",
    "    kwTest = kruskal(temp_df, dv=attr, between='SE_level')\n",
    "    H = kwTest.H[0]\n",
    "    n = temp_df.shape[0]\n",
    "    esq = H * (n + 1)/(n**2 - 1)\n",
    "    print(se_lev, \"\\t\", kwTest, \"\\t\", esq)"
   ]
  },
  {
   "cell_type": "code",
   "execution_count": 228,
   "metadata": {},
   "outputs": [],
   "source": [
    "attrs = ['net_polarization2', 'network_homophily', 'network_polarity', 'user_satisfaction']"
   ]
  },
  {
   "cell_type": "code",
   "execution_count": 246,
   "metadata": {},
   "outputs": [
    {
     "name": "stdout",
     "output_type": "stream",
     "text": [
      "low \t            Source  ddof1         H     p-unc\n",
      "Kruskal  SE_level      1  4.001361  0.045464 \t 0.0004008174769952874\n",
      "med \t            Source  ddof1            H  p-unc\n",
      "Kruskal  SE_level      1  1813.118253    0.0 \t 0.18162058032905157\n",
      "high \t            Source  ddof1            H  p-unc\n",
      "Kruskal  SE_level      1  6349.251004    0.0 \t 0.6360063110943485\n"
     ]
    }
   ],
   "source": [
    "from pingouin import kruskal\n",
    "none_se_data = pd.read_csv('results/final_results/SE_avg/results_none.csv')\n",
    "attr = attrs[1]\n",
    "for se_lev in ['low', 'med', 'high']:\n",
    "    final_data = pd.read_csv('results/final_results/SE_avg/results_' + se_lev + '.csv')\n",
    "    none_se_data['SE_level'] = ['none'] * none_se_data.shape[0]\n",
    "    final_data['SE_level'] = [se_lev] * final_data.shape[0]\n",
    "    temp_df = pd.concat((none_se_data, final_data), axis = 0)\n",
    "    kwTest = kruskal(temp_df, dv=attr, between='SE_level')\n",
    "    H = kwTest.H[0]\n",
    "    n = temp_df.shape[0]\n",
    "    esq = H * (n + 1)/(n**2 - 1)\n",
    "    print(se_lev, \"\\t\", kwTest, \"\\t\", esq)"
   ]
  },
  {
   "cell_type": "code",
   "execution_count": null,
   "metadata": {},
   "outputs": [],
   "source": []
  },
  {
   "cell_type": "code",
   "execution_count": 247,
   "metadata": {},
   "outputs": [
    {
     "name": "stdout",
     "output_type": "stream",
     "text": [
      "('low', 'med') \t             Source  ddof1         H         p-unc\n",
      "Kruskal  TOL_level      1  67.88436  1.733709e-16 \t 0.006799995983187317\n",
      "\n",
      "('med', 'high') \t             Source  ddof1            H  p-unc\n",
      "Kruskal  TOL_level      1  1516.767743    0.0 \t 0.1519350639494953\n",
      "\n",
      "('low', 'high') \t             Source  ddof1            H  p-unc\n",
      "Kruskal  TOL_level      1  1981.182428    0.0 \t 0.19845561738521003\n",
      "\n"
     ]
    }
   ],
   "source": [
    "from pingouin import kruskal\n",
    "attr = attrs[1]\n",
    "for tol_lev in [('low', 'med'), ('med', 'high'), ('low', 'high')]:\n",
    "    tol1 = tol_lev[0]\n",
    "    tol2 = tol_lev[1]\n",
    "    df1 = pd.read_csv('results/final_results/TOL_avg/results_' + tol1 + '.csv')\n",
    "    df2 = pd.read_csv('results/final_results/TOL_avg/results_' + tol2 + '.csv')\n",
    "    df1['TOL_level'] = [tol1] * df1.shape[0]\n",
    "    df2['TOL_level'] = [tol2] * df2.shape[0]\n",
    "    temp_df = pd.concat((df1, df2), axis = 0)\n",
    "    kwTest = kruskal(temp_df, dv=attr, between='TOL_level')\n",
    "    H = kwTest.H[0]\n",
    "    n = temp_df.shape[0]\n",
    "    esq = H * (n + 1)/(n**2 - 1)\n",
    "    print((tol1, tol2), \"\\t\", kwTest, \"\\t\", esq)\n",
    "#     print(tol_lev, \"\\t\", kruskal(df1[attr].iloc[0:1000], df2[attr].iloc[0:1000]))\n",
    "    print()"
   ]
  },
  {
   "cell_type": "code",
   "execution_count": null,
   "metadata": {},
   "outputs": [],
   "source": [
    "none_se_data.columns"
   ]
  },
  {
   "cell_type": "markdown",
   "metadata": {},
   "source": [
    "## Parametric Statistical Significance Testing (Comparing user attributes across different levels of SE)"
   ]
  },
  {
   "cell_type": "code",
   "execution_count": 151,
   "metadata": {},
   "outputs": [],
   "source": [
    "from scipy.stats import ttest_rel, f_oneway"
   ]
  },
  {
   "cell_type": "code",
   "execution_count": 242,
   "metadata": {},
   "outputs": [
    {
     "name": "stdout",
     "output_type": "stream",
     "text": [
      "low \t Ttest_relResult(statistic=1.0273168400388961, pvalue=0.30433282857493105)\n",
      "low \t F_onewayResult(statistic=0.5605161888504171, pvalue=0.4540741402239643)\n",
      "0.016302474410757266\n",
      "0.016659890839619156\n",
      "\n",
      "med \t Ttest_relResult(statistic=10.200659283467873, pvalue=3.855022383023229e-24)\n",
      "med \t F_onewayResult(statistic=57.66599097199965, pvalue=3.453563245136152e-14)\n",
      "0.16144886609804374\n",
      "0.1689810292623314\n",
      "\n",
      "high \t Ttest_relResult(statistic=3.99132138563572, pvalue=6.687277113839638e-05)\n",
      "high \t F_onewayResult(statistic=9.4765112380721, pvalue=0.0020881732525850263)\n",
      "0.06478228989646945\n",
      "0.0685018518573343\n",
      "\n"
     ]
    }
   ],
   "source": [
    "initial_data = pd.read_csv('src/data/initial_data_1.csv')\n",
    "none_se_data = pd.read_csv('results/final_results/SE_avg/final_data_none.csv')\n",
    "attr = 'pol_inclination'\n",
    "for se_lev in ['low', 'med', 'high']:\n",
    "    final_data = pd.read_csv('results/final_results/SE_avg/final_data_' + se_lev + '.csv')\n",
    "    print(se_lev, \"\\t\", ttest_rel(none_se_data[attr], final_data[attr]))\n",
    "    print(se_lev, \"\\t\", f_oneway(none_se_data[attr], final_data[attr]))\n",
    "    none_se_data['SE_level'] = ['none'] * none_se_data.shape[0]\n",
    "    final_data['SE_level'] = [se_lev] * final_data.shape[0]\n",
    "    temp_df = pd.concat((none_se_data, final_data), axis = 0)\n",
    "    print(galss_delta(temp_df, attr, 'SE_level'))\n",
    "    print(cohens_d(temp_df, attr, 'SE_level'))\n",
    "    print()"
   ]
  },
  {
   "cell_type": "code",
   "execution_count": 241,
   "metadata": {},
   "outputs": [
    {
     "name": "stdout",
     "output_type": "stream",
     "text": [
      "('low', 'med') \t Ttest_relResult(statistic=1.3458769974450495, pvalue=0.17841774531539958)\n",
      "('low', 'med') \t F_onewayResult(statistic=1.076195442338444, pvalue=0.2995812824927048)\n",
      "0.022459804982167243\n",
      "0.02308466866509659\n",
      "\n",
      "('med', 'high') \t Ttest_relResult(statistic=0.7228518384522137, pvalue=0.46981277930647525)\n",
      "('med', 'high') \t F_onewayResult(statistic=0.2614795180483579, pvalue=0.6091195029813835)\n",
      "0.0116176558996652\n",
      "0.011378811660922035\n",
      "\n",
      "('low', 'high') \t Ttest_relResult(statistic=2.058895338652016, pvalue=0.03956826421359188)\n",
      "('low', 'high') \t F_onewayResult(statistic=2.412527050961528, pvalue=0.12040710290046534)\n",
      "0.03637002963351754\n",
      "0.034563217721917304\n",
      "\n"
     ]
    }
   ],
   "source": [
    "initial_data = pd.read_csv('src/data/initial_data_1.csv')\n",
    "attr = 'pol_inclination'\n",
    "for tol_lev in [('low', 'med'), ('med', 'high'), ('low', 'high')]:\n",
    "    tol1 = tol_lev[0]\n",
    "    tol2 = tol_lev[1]\n",
    "    df1 = pd.read_csv('results/final_results/TOL_avg/final_data_' + tol1 + '.csv')\n",
    "    df2 = pd.read_csv('results/final_results/TOL_avg/final_data_' + tol2 + '.csv')\n",
    "    \n",
    "    print(tol_lev, \"\\t\", ttest_rel(df1[attr], df2[attr]))\n",
    "    print(tol_lev, \"\\t\", f_oneway(df1[attr], df2[attr]))\n",
    "    df1['TOL_level'] = [tol1] * df1.shape[0]\n",
    "    df2['TOL_level'] = [tol2] * df2.shape[0]\n",
    "    temp_df = pd.concat((df1, df2), axis = 0)\n",
    "    print(galss_delta(temp_df, attr, 'TOL_level'))\n",
    "    print(cohens_d(temp_df, attr, 'TOL_level'))\n",
    "    print()"
   ]
  },
  {
   "cell_type": "code",
   "execution_count": 79,
   "metadata": {},
   "outputs": [
    {
     "data": {
      "text/plain": [
       "none    1000\n",
       "high    1000\n",
       "Name: SE_level, dtype: int64"
      ]
     },
     "execution_count": 79,
     "metadata": {},
     "output_type": "execute_result"
    }
   ],
   "source": [
    "temp_df['SE_level'].value_counts()"
   ]
  },
  {
   "cell_type": "code",
   "execution_count": null,
   "metadata": {},
   "outputs": [],
   "source": []
  },
  {
   "cell_type": "markdown",
   "metadata": {},
   "source": [
    "# Effect Size"
   ]
  },
  {
   "cell_type": "code",
   "execution_count": 107,
   "metadata": {},
   "outputs": [],
   "source": [
    "var1 = 'low'\n",
    "var2 = 'high'\n",
    "attr = 'net_polarization2'\n",
    "exp = 'TOL'\n",
    "\n",
    "df1 = pd.read_csv('results/final_results/' + exp +'_avg/results_' + var1 + '.csv')\n",
    "df2 = pd.read_csv('results/final_results/' + exp +'_avg/results_' + var2 + '.csv')\n",
    "df1['EXP'] = [var1] * df1.shape[0]\n",
    "df2['EXP'] = [var2] * df2.shape[0]\n",
    "temp_df = pd.concat((df1.iloc[0:1000], df2.iloc[0:1000]), axis = 0)"
   ]
  },
  {
   "cell_type": "markdown",
   "metadata": {},
   "source": [
    "### Cohen's d"
   ]
  },
  {
   "cell_type": "code",
   "execution_count": 108,
   "metadata": {},
   "outputs": [
    {
     "data": {
      "text/plain": [
       "1.1741784287985104"
      ]
     },
     "execution_count": 108,
     "metadata": {},
     "output_type": "execute_result"
    }
   ],
   "source": [
    "import numpy as np\n",
    "\n",
    "def cohens_d(df, attr, control_var):\n",
    "\n",
    "    # Variances\n",
    "    variances = df.groupby(control_var).var(ddof=1)\n",
    "    # Mean variance\n",
    "    mean_var = variances.mean()[attr]\n",
    "    # Pooled standard deviation\n",
    "    s_pooled = np.sqrt(mean_var)\n",
    "    # Difference of the means\n",
    "    diff_mean = abs(df.groupby(control_var).mean().diff()[attr][-1])\n",
    "    # Cohen's d\n",
    "    cohens_d = diff_mean / s_pooled\n",
    "    \n",
    "    return cohens_d\n",
    "\n",
    "cohens_d(temp_df, 'net_polarization2', 'EXP')"
   ]
  },
  {
   "cell_type": "code",
   "execution_count": null,
   "metadata": {},
   "outputs": [],
   "source": [
    "# import numpy as np\n",
    "# import pingouin as pg\n",
    "# x = temp_df[temp_df['EXP'] == var1][attr]\n",
    "# y = temp_df[temp_df['EXP'] == var2][attr]\n",
    "# pg.compute_effsize(x, y, paired=False, eftype='cohen')"
   ]
  },
  {
   "cell_type": "markdown",
   "metadata": {},
   "source": [
    "### Glass's delta"
   ]
  },
  {
   "cell_type": "code",
   "execution_count": 179,
   "metadata": {},
   "outputs": [],
   "source": [
    "# Variances\n",
    "def galss_delta(df, attr, control_var):\n",
    "    \n",
    "    variances = df.groupby(control_var).var(ddof=1)\n",
    "    # Difference of the means\n",
    "    diff_mean = abs(df.groupby(control_var).mean().diff()[attr][-1])\n",
    "    # Glass's delta\n",
    "    glasss_delta = diff_mean / np.sqrt(variances[attr].to_list()[0])\n",
    "\n",
    "    return glasss_delta\n",
    "\n",
    "# galss_delta(temp_df, 'net_polarization2', 'EXP')"
   ]
  },
  {
   "cell_type": "markdown",
   "metadata": {},
   "source": [
    "### Epsilon Square (For Kruskal-Wallis test)"
   ]
  },
  {
   "cell_type": "code",
   "execution_count": 110,
   "metadata": {},
   "outputs": [
    {
     "name": "stdout",
     "output_type": "stream",
     "text": [
      "0.2524845375865879\n"
     ]
    }
   ],
   "source": [
    "from pingouin import kruskal\n",
    "def epsilon_square(df, attr, control_var):\n",
    "\n",
    "    kwTest = kruskal(df, dv=attr, between=control_var)\n",
    "    H = kwTest.H[0]\n",
    "    n = df.shape[0]\n",
    "    esq = H * (n + 1)/(n**2 - 1)\n",
    "    print(esq)\n",
    "    \n",
    "epsilon_square(temp_df, 'net_polarization2', 'EXP')"
   ]
  },
  {
   "cell_type": "code",
   "execution_count": null,
   "metadata": {},
   "outputs": [],
   "source": []
  },
  {
   "cell_type": "code",
   "execution_count": 207,
   "metadata": {},
   "outputs": [
    {
     "data": {
      "text/plain": [
       "(Index(['Unnamed: 0', 'Unnamed: 0.1', 'id', 'user_activity', 'pol_interest',\n",
       "        'privacy_preference', 'user_satisfaction', 'issue_0', 'issue_1',\n",
       "        'issue_2', 'issue_3', 'issue_4', 'issue_5', 'pol_inclination',\n",
       "        'SE_level'],\n",
       "       dtype='object'),\n",
       " Index(['Unnamed: 0', 'Unnamed: 0.1', 'id', 'user_activity', 'pol_interest',\n",
       "        'privacy_preference', 'user_satisfaction', 'issue_0', 'issue_1',\n",
       "        'issue_2', 'issue_3', 'issue_4', 'issue_5', 'pol_inclination',\n",
       "        'SE_level'],\n",
       "       dtype='object'))"
      ]
     },
     "execution_count": 207,
     "metadata": {},
     "output_type": "execute_result"
    }
   ],
   "source": [
    "none_se_data.columns, med_tol_data.columns"
   ]
  },
  {
   "cell_type": "code",
   "execution_count": 208,
   "metadata": {},
   "outputs": [
    {
     "name": "stdout",
     "output_type": "stream",
     "text": [
      "high \t            Source  ddof1         H     p-unc\n",
      "Kruskal  SE_level      1  2.396003  0.121646 \t 0.0002966451962983735\n"
     ]
    }
   ],
   "source": [
    "from pingouin import kruskal\n",
    "none_se_data = pd.read_csv('results/final_results/SE_avg/final_data_none.csv')\n",
    "med_tol_data = pd.read_csv('results/final_results/TOL_avg/final_data_med.csv')\n",
    "attr = 'pol_inclination'\n",
    "\n",
    "none_se_data['SE_level'] = ['none'] * none_se_data.shape[0]\n",
    "med_tol_data['SE_level'] = ['med'] * med_tol_data.shape[0]\n",
    "temp_df = pd.concat((none_se_data, med_tol_data), axis = 0)\n",
    "kwTest = kruskal(temp_df, dv=attr, between='SE_level')\n",
    "H = kwTest.H[0]\n",
    "n = temp_df.shape[0]\n",
    "esq = H * (n + 1)/(n**2 - 1)\n",
    "print(se_lev, \"\\t\", kwTest, \"\\t\", esq)"
   ]
  },
  {
   "cell_type": "code",
   "execution_count": null,
   "metadata": {},
   "outputs": [],
   "source": []
  }
 ],
 "metadata": {
  "kernelspec": {
   "display_name": "py3_venv",
   "language": "python",
   "name": "py3_venv"
  },
  "language_info": {
   "codemirror_mode": {
    "name": "ipython",
    "version": 3
   },
   "file_extension": ".py",
   "mimetype": "text/x-python",
   "name": "python",
   "nbconvert_exporter": "python",
   "pygments_lexer": "ipython3",
   "version": "3.10.4"
  }
 },
 "nbformat": 4,
 "nbformat_minor": 4
}
