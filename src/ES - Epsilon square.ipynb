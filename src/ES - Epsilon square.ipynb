{
 "cells": [
  {
   "cell_type": "markdown",
   "metadata": {},
   "source": [
    "# Epsilon Square\n",
    "*By P. Stikker*<br>\n",
    "https://PeterStatistics.com<br>\n",
    "https://www.youtube.com/stikpet<br>"
   ]
  },
  {
   "cell_type": "markdown",
   "metadata": {},
   "source": [
    "## Introduction"
   ]
  },
  {
   "cell_type": "markdown",
   "metadata": {},
   "source": [
    "Unfortunately for the Kruskal-Wallis test there is not a single agreed upon effect size measure. However Epsilon square (ε<sup>2</sup>) (Kelley, 1935) seems to be a good choice (see King & Minium (2009), as cited in Tomczak & Tomczak, 2014).\n",
    "\n",
    "An epsilon square of 0 would mean no differences (and no influence), while one of 1 would indicate a full dependency. Unfortunately there is no formal way to determine if 0.40 is high or low, and I have not been able to find any rule of thumbs for the interpretation. Since this is a squared variable, I would use the same rule of thumb as for a correlation coefficient, but then squaring the upper and lower bounds of each bin. This would give if we use from Rea and Parker (2014) their interpretation for r, the following:\n",
    "\n",
    "|ε<sup>2</sup>| Interpretation|\n",
    "|-------|---------------|\n",
    "|0.00 < 0.01| Negligible|\n",
    "|0.01 < 0.04 |Weak|\n",
    "|0.04 < 0.16| Moderate|\n",
    "|0.16 < 0.36| Relatively strong|\n",
    "|0.36 < 0.64| Strong|\n",
    "|0.64 <= 1.00| Very strong|\n",
    "\n",
    "Lets find out how we can determine this ε<sup>2</sup> with Python, by example."
   ]
  },
  {
   "cell_type": "markdown",
   "metadata": {},
   "source": [
    "## Example"
   ]
  },
  {
   "cell_type": "markdown",
   "metadata": {},
   "source": [
    "To show an example, I'll load some data as a pandas dataframe. So I'll need the '<a href=\"https://pandas.pydata.org\">pandas</a>' library:"
   ]
  },
  {
   "cell_type": "code",
   "execution_count": 1,
   "metadata": {},
   "outputs": [],
   "source": [
    "#!pip install pandas\n",
    "import pandas as pd"
   ]
  },
  {
   "cell_type": "markdown",
   "metadata": {},
   "source": [
    "And then load the example data using the <a href=\"https://pandas.pydata.org/pandas-docs/stable/reference/api/pandas.read_csv.html\">'read_csv'</a>. "
   ]
  },
  {
   "cell_type": "code",
   "execution_count": 2,
   "metadata": {},
   "outputs": [
    {
     "data": {
      "text/html": [
       "<div>\n",
       "<style scoped>\n",
       "    .dataframe tbody tr th:only-of-type {\n",
       "        vertical-align: middle;\n",
       "    }\n",
       "\n",
       "    .dataframe tbody tr th {\n",
       "        vertical-align: top;\n",
       "    }\n",
       "\n",
       "    .dataframe thead th {\n",
       "        text-align: right;\n",
       "    }\n",
       "</style>\n",
       "<table border=\"1\" class=\"dataframe\">\n",
       "  <thead>\n",
       "    <tr style=\"text-align: right;\">\n",
       "      <th></th>\n",
       "      <th>RespNr</th>\n",
       "      <th>Location</th>\n",
       "      <th>OAA_ObjCourse</th>\n",
       "      <th>OAA_ObjClass</th>\n",
       "      <th>OAA_CourseExec</th>\n",
       "      <th>OAA_RelActObj</th>\n",
       "      <th>OAA_RelActExa</th>\n",
       "      <th>OAA_RelObjExa</th>\n",
       "      <th>OAA_LearProcAct</th>\n",
       "      <th>OAA_LearProcPrep</th>\n",
       "      <th>...</th>\n",
       "      <th>Over_Grade</th>\n",
       "      <th>Over_Strong</th>\n",
       "      <th>Over_Impr</th>\n",
       "      <th>Gen_Gender</th>\n",
       "      <th>Gen_Age</th>\n",
       "      <th>Gen_SecSchool</th>\n",
       "      <th>Gen_Classes</th>\n",
       "      <th>Gen_NumberSubj</th>\n",
       "      <th>Gen_Time</th>\n",
       "      <th>Comments</th>\n",
       "    </tr>\n",
       "  </thead>\n",
       "  <tbody>\n",
       "    <tr>\n",
       "      <th>0</th>\n",
       "      <td>1.0</td>\n",
       "      <td>Rotterdam</td>\n",
       "      <td>Fully Disagree</td>\n",
       "      <td>Fully Disagree</td>\n",
       "      <td>Fully Disagree</td>\n",
       "      <td>Disagree</td>\n",
       "      <td>Fully Disagree</td>\n",
       "      <td>Fully Disagree</td>\n",
       "      <td>Fully Disagree</td>\n",
       "      <td>Fully Disagree</td>\n",
       "      <td>...</td>\n",
       "      <td>20.0</td>\n",
       "      <td>None, if there was a teacher that teaches how ...</td>\n",
       "      <td>A better teacher/teaching method</td>\n",
       "      <td>Female</td>\n",
       "      <td>22.0</td>\n",
       "      <td>NaN</td>\n",
       "      <td>NaN</td>\n",
       "      <td>Fully agree</td>\n",
       "      <td>20 &lt; 30</td>\n",
       "      <td>Even when I revise my work I still cannot unde...</td>\n",
       "    </tr>\n",
       "    <tr>\n",
       "      <th>1</th>\n",
       "      <td>2.0</td>\n",
       "      <td>Haarlem</td>\n",
       "      <td>Disagree</td>\n",
       "      <td>Disagree</td>\n",
       "      <td>NaN</td>\n",
       "      <td>Fully Disagree</td>\n",
       "      <td>Neither disagree nor agree</td>\n",
       "      <td>Agree</td>\n",
       "      <td>Disagree</td>\n",
       "      <td>Neither disagree nor agree</td>\n",
       "      <td>...</td>\n",
       "      <td>50.0</td>\n",
       "      <td>Blackboard</td>\n",
       "      <td>More motivation! Clearer explanation in class</td>\n",
       "      <td>Male</td>\n",
       "      <td>NaN</td>\n",
       "      <td>The Netherlands</td>\n",
       "      <td>6.0</td>\n",
       "      <td>Disagree</td>\n",
       "      <td>10 &lt; 20</td>\n",
       "      <td>If the survey is anonymous, there shouldn't be...</td>\n",
       "    </tr>\n",
       "    <tr>\n",
       "      <th>2</th>\n",
       "      <td>3.0</td>\n",
       "      <td>Diemen</td>\n",
       "      <td>Fully agree</td>\n",
       "      <td>Fully agree</td>\n",
       "      <td>Agree</td>\n",
       "      <td>Fully agree</td>\n",
       "      <td>Fully agree</td>\n",
       "      <td>Fully agree</td>\n",
       "      <td>Fully agree</td>\n",
       "      <td>Agree</td>\n",
       "      <td>...</td>\n",
       "      <td>80.0</td>\n",
       "      <td>Notably it has motivated alot about my study c...</td>\n",
       "      <td>NaN</td>\n",
       "      <td>Male</td>\n",
       "      <td>37.0</td>\n",
       "      <td>Africa</td>\n",
       "      <td>7.0</td>\n",
       "      <td>Agree</td>\n",
       "      <td>10 &lt; 20</td>\n",
       "      <td>NaN</td>\n",
       "    </tr>\n",
       "    <tr>\n",
       "      <th>3</th>\n",
       "      <td>4.0</td>\n",
       "      <td>Rotterdam</td>\n",
       "      <td>Fully Disagree</td>\n",
       "      <td>Neither disagree nor agree</td>\n",
       "      <td>Disagree</td>\n",
       "      <td>Neither disagree nor agree</td>\n",
       "      <td>Neither disagree nor agree</td>\n",
       "      <td>Fully Disagree</td>\n",
       "      <td>Fully Disagree</td>\n",
       "      <td>Neither disagree nor agree</td>\n",
       "      <td>...</td>\n",
       "      <td>15.0</td>\n",
       "      <td>The clearly layout of every subject eacht week</td>\n",
       "      <td>The explanation of the teacher and motivation</td>\n",
       "      <td>Female</td>\n",
       "      <td>24.0</td>\n",
       "      <td>The Netherlands</td>\n",
       "      <td>6.0</td>\n",
       "      <td>Agree</td>\n",
       "      <td>10 &lt; 20</td>\n",
       "      <td>Practice exams</td>\n",
       "    </tr>\n",
       "    <tr>\n",
       "      <th>4</th>\n",
       "      <td>5.0</td>\n",
       "      <td>Haarlem</td>\n",
       "      <td>Disagree</td>\n",
       "      <td>Agree</td>\n",
       "      <td>Fully Disagree</td>\n",
       "      <td>Neither disagree nor agree</td>\n",
       "      <td>Fully agree</td>\n",
       "      <td>Fully agree</td>\n",
       "      <td>Neither disagree nor agree</td>\n",
       "      <td>Fully agree</td>\n",
       "      <td>...</td>\n",
       "      <td>40.0</td>\n",
       "      <td>The online learning material</td>\n",
       "      <td>Classes were just really bad and were very con...</td>\n",
       "      <td>Male</td>\n",
       "      <td>19.0</td>\n",
       "      <td>The Netherlands</td>\n",
       "      <td>7.0</td>\n",
       "      <td>Fully agree</td>\n",
       "      <td>10 &lt; 20</td>\n",
       "      <td>NaN</td>\n",
       "    </tr>\n",
       "  </tbody>\n",
       "</table>\n",
       "<p>5 rows × 53 columns</p>\n",
       "</div>"
      ],
      "text/plain": [
       "   RespNr   Location   OAA_ObjCourse                OAA_ObjClass  \\\n",
       "0     1.0  Rotterdam  Fully Disagree              Fully Disagree   \n",
       "1     2.0    Haarlem        Disagree                    Disagree   \n",
       "2     3.0     Diemen     Fully agree                 Fully agree   \n",
       "3     4.0  Rotterdam  Fully Disagree  Neither disagree nor agree   \n",
       "4     5.0    Haarlem        Disagree                       Agree   \n",
       "\n",
       "   OAA_CourseExec               OAA_RelActObj               OAA_RelActExa  \\\n",
       "0  Fully Disagree                    Disagree              Fully Disagree   \n",
       "1             NaN              Fully Disagree  Neither disagree nor agree   \n",
       "2           Agree                 Fully agree                 Fully agree   \n",
       "3        Disagree  Neither disagree nor agree  Neither disagree nor agree   \n",
       "4  Fully Disagree  Neither disagree nor agree                 Fully agree   \n",
       "\n",
       "    OAA_RelObjExa             OAA_LearProcAct            OAA_LearProcPrep  \\\n",
       "0  Fully Disagree              Fully Disagree              Fully Disagree   \n",
       "1           Agree                    Disagree  Neither disagree nor agree   \n",
       "2     Fully agree                 Fully agree                       Agree   \n",
       "3  Fully Disagree              Fully Disagree  Neither disagree nor agree   \n",
       "4     Fully agree  Neither disagree nor agree                 Fully agree   \n",
       "\n",
       "   ... Over_Grade                                        Over_Strong  \\\n",
       "0  ...       20.0  None, if there was a teacher that teaches how ...   \n",
       "1  ...       50.0                                         Blackboard   \n",
       "2  ...       80.0  Notably it has motivated alot about my study c...   \n",
       "3  ...       15.0     The clearly layout of every subject eacht week   \n",
       "4  ...       40.0                       The online learning material   \n",
       "\n",
       "                                           Over_Impr Gen_Gender Gen_Age  \\\n",
       "0                   A better teacher/teaching method     Female    22.0   \n",
       "1      More motivation! Clearer explanation in class       Male     NaN   \n",
       "2                                                NaN       Male    37.0   \n",
       "3      The explanation of the teacher and motivation     Female    24.0   \n",
       "4  Classes were just really bad and were very con...       Male    19.0   \n",
       "\n",
       "     Gen_SecSchool Gen_Classes Gen_NumberSubj Gen_Time  \\\n",
       "0              NaN         NaN    Fully agree  20 < 30   \n",
       "1  The Netherlands         6.0       Disagree  10 < 20   \n",
       "2           Africa         7.0          Agree  10 < 20   \n",
       "3  The Netherlands         6.0          Agree  10 < 20   \n",
       "4  The Netherlands         7.0    Fully agree  10 < 20   \n",
       "\n",
       "                                            Comments  \n",
       "0  Even when I revise my work I still cannot unde...  \n",
       "1  If the survey is anonymous, there shouldn't be...  \n",
       "2                                                NaN  \n",
       "3                                     Practice exams  \n",
       "4                                                NaN  \n",
       "\n",
       "[5 rows x 53 columns]"
      ]
     },
     "execution_count": 2,
     "metadata": {},
     "output_type": "execute_result"
    }
   ],
   "source": [
    "myDf = pd.read_csv('../../Data/csv/StudentStatistics.csv')\n",
    "myDf.head()"
   ]
  },
  {
   "cell_type": "markdown",
   "metadata": {},
   "source": [
    "The example will use as a nominal field the 'Location', and as an ordinal field the 'Teach_Motivate' (if the teacher was able to motivate the student)."
   ]
  },
  {
   "cell_type": "code",
   "execution_count": 3,
   "metadata": {},
   "outputs": [],
   "source": [
    "myNom = myDf['Location']\n",
    "myOrd = myDf['Teach_Motivate']"
   ]
  },
  {
   "cell_type": "markdown",
   "metadata": {},
   "source": [
    "To get a quick look at the counts from this, we can use pandas '<a href=\"https://pandas.pydata.org/pandas-docs/stable/reference/api/pandas.crosstab.html\">crosstab</a>'. "
   ]
  },
  {
   "cell_type": "code",
   "execution_count": 4,
   "metadata": {},
   "outputs": [
    {
     "data": {
      "text/html": [
       "<div>\n",
       "<style scoped>\n",
       "    .dataframe tbody tr th:only-of-type {\n",
       "        vertical-align: middle;\n",
       "    }\n",
       "\n",
       "    .dataframe tbody tr th {\n",
       "        vertical-align: top;\n",
       "    }\n",
       "\n",
       "    .dataframe thead th {\n",
       "        text-align: right;\n",
       "    }\n",
       "</style>\n",
       "<table border=\"1\" class=\"dataframe\">\n",
       "  <thead>\n",
       "    <tr style=\"text-align: right;\">\n",
       "      <th>Location</th>\n",
       "      <th>Diemen</th>\n",
       "      <th>Haarlem</th>\n",
       "      <th>Rotterdam</th>\n",
       "    </tr>\n",
       "    <tr>\n",
       "      <th>Teach_Motivate</th>\n",
       "      <th></th>\n",
       "      <th></th>\n",
       "      <th></th>\n",
       "    </tr>\n",
       "  </thead>\n",
       "  <tbody>\n",
       "    <tr>\n",
       "      <th>Agree</th>\n",
       "      <td>5</td>\n",
       "      <td>1</td>\n",
       "      <td>1</td>\n",
       "    </tr>\n",
       "    <tr>\n",
       "      <th>Disagree</th>\n",
       "      <td>0</td>\n",
       "      <td>6</td>\n",
       "      <td>3</td>\n",
       "    </tr>\n",
       "    <tr>\n",
       "      <th>Fully Disagree</th>\n",
       "      <td>1</td>\n",
       "      <td>10</td>\n",
       "      <td>9</td>\n",
       "    </tr>\n",
       "    <tr>\n",
       "      <th>Fully agree</th>\n",
       "      <td>5</td>\n",
       "      <td>1</td>\n",
       "      <td>0</td>\n",
       "    </tr>\n",
       "    <tr>\n",
       "      <th>Neither disagree nor agree</th>\n",
       "      <td>6</td>\n",
       "      <td>3</td>\n",
       "      <td>3</td>\n",
       "    </tr>\n",
       "  </tbody>\n",
       "</table>\n",
       "</div>"
      ],
      "text/plain": [
       "Location                    Diemen  Haarlem  Rotterdam\n",
       "Teach_Motivate                                        \n",
       "Agree                            5        1          1\n",
       "Disagree                         0        6          3\n",
       "Fully Disagree                   1       10          9\n",
       "Fully agree                      5        1          0\n",
       "Neither disagree nor agree       6        3          3"
      ]
     },
     "execution_count": 4,
     "metadata": {},
     "output_type": "execute_result"
    }
   ],
   "source": [
    "myCrosstable = pd.crosstab(myOrd, myNom)\n",
    "myCrosstable"
   ]
  },
  {
   "cell_type": "markdown",
   "metadata": {},
   "source": [
    "The categories in the ordinal field are their original labels, but need to be numeric values, so we should re-code the field into numeric values.\n",
    "\n",
    "Lets first see which options there were (using '<a href=\"https://pandas.pydata.org/pandas-docs/stable/reference/api/pandas.unique.html\">unique</a>')."
   ]
  },
  {
   "cell_type": "code",
   "execution_count": 5,
   "metadata": {},
   "outputs": [
    {
     "data": {
      "text/plain": [
       "array(['Fully Disagree', 'Disagree', 'Fully agree',\n",
       "       'Neither disagree nor agree', nan, 'Agree'], dtype=object)"
      ]
     },
     "execution_count": 5,
     "metadata": {},
     "output_type": "execute_result"
    }
   ],
   "source": [
    "myOrd.unique()"
   ]
  },
  {
   "cell_type": "markdown",
   "metadata": {},
   "source": [
    "Lets assign these to numeric values, by making a dictionary out of the coding:"
   ]
  },
  {
   "cell_type": "code",
   "execution_count": 6,
   "metadata": {},
   "outputs": [],
   "source": [
    "myCoding = {'Fully Disagree': 1, 'Disagree': 2, 'Neither disagree nor agree': 3, 'Agree': 4, 'Fully agree': 5}"
   ]
  },
  {
   "cell_type": "markdown",
   "metadata": {},
   "source": [
    "And now to replace the labels with their new codes (using '<a href=\"https://pandas.pydata.org/pandas-docs/stable/reference/api/pandas.DataFrame.replace.html\">replace</a>'):"
   ]
  },
  {
   "cell_type": "code",
   "execution_count": 7,
   "metadata": {},
   "outputs": [],
   "source": [
    "myDf['Teach_MotivateRec'] = myDf['Teach_Motivate'].replace(myCoding)"
   ]
  },
  {
   "cell_type": "markdown",
   "metadata": {},
   "source": [
    "A quick check to see if it worked:"
   ]
  },
  {
   "cell_type": "code",
   "execution_count": 8,
   "metadata": {},
   "outputs": [
    {
     "data": {
      "text/plain": [
       "1.0    20\n",
       "3.0    12\n",
       "2.0     9\n",
       "4.0     7\n",
       "5.0     6\n",
       "Name: Teach_MotivateRec, dtype: int64"
      ]
     },
     "execution_count": 8,
     "metadata": {},
     "output_type": "execute_result"
    }
   ],
   "source": [
    "myOrd = myDf['Teach_MotivateRec']\n",
    "myOrd.value_counts()"
   ]
  },
  {
   "cell_type": "markdown",
   "metadata": {},
   "source": [
    "I'm not aware of any package or library that can calculate epsilon square immediately, but the formula is not that complicated:\n",
    "\n",
    "\\begin{equation*}\n",
    "\\epsilon_{KW}^2 = H\\times\\frac{n+1}{n^2-1}\n",
    "\\end{equation*}\n",
    "\n",
    "The $H$ is the test-value of the Kruskal-Wallis Test itself, and $n$ the sample size. \n",
    "\n",
    "In a separate documentation an explanation can be found on how to obtain the H-value, so see for more details the Kruskal-Wallis H test documentation. Here is quickly the code from that document:"
   ]
  },
  {
   "cell_type": "code",
   "execution_count": 9,
   "metadata": {},
   "outputs": [],
   "source": [
    "# !pip install pingouin\n",
    "from pingouin import kruskal\n",
    "kwTest = kruskal(data=myDf, dv='Teach_MotivateRec', between='Location')"
   ]
  },
  {
   "cell_type": "markdown",
   "metadata": {},
   "source": [
    "We can get the H-value from the test results:"
   ]
  },
  {
   "cell_type": "code",
   "execution_count": 10,
   "metadata": {},
   "outputs": [
    {
     "data": {
      "text/plain": [
       "21.328066442489817"
      ]
     },
     "execution_count": 10,
     "metadata": {},
     "output_type": "execute_result"
    }
   ],
   "source": [
    "H = kwTest.H[0]\n",
    "H"
   ]
  },
  {
   "cell_type": "markdown",
   "metadata": {},
   "source": [
    "Using Pandas '<a href=\"https://pandas.pydata.org/pandas-docs/stable/reference/api/pandas.DataFrame.sum.html\">sum</a>' function we can get the total number of cases. We sum the crosstable twice (the first will return the row sums, then sum those to get the total sum of all counts:"
   ]
  },
  {
   "cell_type": "code",
   "execution_count": 11,
   "metadata": {},
   "outputs": [
    {
     "data": {
      "text/plain": [
       "54"
      ]
     },
     "execution_count": 11,
     "metadata": {},
     "output_type": "execute_result"
    }
   ],
   "source": [
    "n = myCrosstable.sum().sum()\n",
    "n"
   ]
  },
  {
   "cell_type": "markdown",
   "metadata": {},
   "source": [
    "Now we can complete the formula for epsilon square:"
   ]
  },
  {
   "cell_type": "code",
   "execution_count": 12,
   "metadata": {},
   "outputs": [
    {
     "data": {
      "text/plain": [
       "0.40241634797150594"
      ]
     },
     "execution_count": 12,
     "metadata": {},
     "output_type": "execute_result"
    }
   ],
   "source": [
    "esq = H * (n + 1)/(n**2 - 1)\n",
    "esq"
   ]
  },
  {
   "cell_type": "markdown",
   "metadata": {},
   "source": [
    "From the table in the introduction we can see that a value of 0.40 would fit in the 'strong' category, so there appears to be a 'strong' influence of the location on the opinion of the motivational qualities of the teacher.\n",
    "\n",
    "With some if and elif statements we could also let Python look this up for us:"
   ]
  },
  {
   "cell_type": "code",
   "execution_count": 13,
   "metadata": {},
   "outputs": [
    {
     "data": {
      "text/plain": [
       "'Strong'"
      ]
     },
     "execution_count": 13,
     "metadata": {},
     "output_type": "execute_result"
    }
   ],
   "source": [
    "if esq < .01:\n",
    "    qual = 'Negligible'\n",
    "elif esq < .04:\n",
    "    qual = 'Weak'\n",
    "elif esq < .16:\n",
    "    qual = 'Moderate'\n",
    "elif esq < .36:\n",
    "    qual = 'Relatively strong'\n",
    "elif esq < .64:\n",
    "    qual = 'Strong'\n",
    "else:\n",
    "    qual = 'Very strong'\n",
    "    \n",
    "qual"
   ]
  },
  {
   "cell_type": "markdown",
   "metadata": {},
   "source": [
    "## References\n",
    "\n",
    "Kelley, T. L. (1935). An Unbiased Correlation Ratio Measure. *Proceedings of the National Academy of Sciences of the United States of America, 21*(9), 554–559.\n",
    "\n",
    "Rea, Louis M., and Richard A. Parker. 2014. *Designing and Conducting Survey Research: A Comprehensive Guide* (4th ed). San Francisco, CA: Jossey-Bass.\n",
    "\n",
    "Tomczak, M., & Tomczak, E. (2014). The need to report effect size estimates revisited: An overview of some recommended measures of effect size. *Trends in Sport Sciences, 1*(21), 19–25."
   ]
  },
  {
   "cell_type": "code",
   "execution_count": null,
   "metadata": {},
   "outputs": [],
   "source": []
  }
 ],
 "metadata": {
  "kernelspec": {
   "display_name": "py3_venv",
   "language": "python",
   "name": "py3_venv"
  },
  "language_info": {
   "codemirror_mode": {
    "name": "ipython",
    "version": 3
   },
   "file_extension": ".py",
   "mimetype": "text/x-python",
   "name": "python",
   "nbconvert_exporter": "python",
   "pygments_lexer": "ipython3",
   "version": "3.10.4"
  }
 },
 "nbformat": 4,
 "nbformat_minor": 4
}
