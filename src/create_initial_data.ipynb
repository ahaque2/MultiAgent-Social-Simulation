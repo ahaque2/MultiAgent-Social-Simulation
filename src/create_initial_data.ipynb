{
 "cells": [
  {
   "cell_type": "code",
   "execution_count": 105,
   "metadata": {},
   "outputs": [],
   "source": [
    "import numpy as np\n",
    "import pandas as pd\n",
    "import sys\n",
    "\n",
    "\n",
    "import pylab as plt\n",
    "import seaborn as sns\n",
    "\n",
    "import warnings\n",
    "warnings.filterwarnings('ignore')"
   ]
  },
  {
   "cell_type": "markdown",
   "metadata": {},
   "source": [
    "### Generating initial Agent attributes"
   ]
  },
  {
   "cell_type": "code",
   "execution_count": 11,
   "metadata": {},
   "outputs": [],
   "source": [
    "# initial_data = pd.read_csv('../results/sharing_details_0/initial_data.csv')\n",
    "# # initial_data_2 = pd.read_csv('../results/sharing_details_1/initial_data.csv')"
   ]
  },
  {
   "cell_type": "code",
   "execution_count": null,
   "metadata": {},
   "outputs": [],
   "source": []
  },
  {
   "cell_type": "code",
   "execution_count": 97,
   "metadata": {},
   "outputs": [],
   "source": [
    "# initial_data.columns"
   ]
  },
  {
   "cell_type": "code",
   "execution_count": 33,
   "metadata": {},
   "outputs": [],
   "source": [
    "import networkx as nx\n",
    "\n",
    "def get_agent_pol_inclinations(df, n_issues):\n",
    "\n",
    "    dem_fav_topics = ['issue_' + str(x) for x in range(n_issues) if x%2 == 0]\n",
    "    rep_fav_topics = ['issue_' + str(x) for x in range(n_issues) if x%2 == 1]\n",
    "    mean_rep_support = df[rep_fav_topics].mean(axis = 1)\n",
    "    mean_dem_support = df[dem_fav_topics].mean(axis = 1) \n",
    "\n",
    "    pol_inclination = mean_dem_support - mean_rep_support\n",
    "\n",
    "    pol_inclination = pol_inclination.clip(-1, 1)\n",
    "\n",
    "    if(any(pol_inclination) < -1 or any(pol_inclination) > 1):\n",
    "        print(\"Pol inclination exceed 1 or is lowers than -1 \\n\", df)\n",
    "        sys.exit()\n",
    "\n",
    "    return pol_inclination\n",
    "\n",
    "def creat_social_network(edges):\n",
    "\n",
    "        G = nx.Graph()\n",
    "        lines = edges.split(\"\\n\")\n",
    "        for e in lines:\n",
    "            nodes = e.split()\n",
    "            if(len(nodes) > 1):\n",
    "                if(nodes[0] not in G):\n",
    "                    G.add_node(nodes[0])\n",
    "                if(nodes[1] not in G):\n",
    "                    G.add_node(nodes[1])\n",
    "\n",
    "                G.add_edge(nodes[0], nodes[1])\n",
    "\n",
    "        return G\n",
    "\n",
    "def get_social_network(n_issues):\n",
    "\n",
    "        G = nx.karate_club_graph()\n",
    "        fb_network = open('../../data/facebook_combined.txt', 'r').read()\n",
    "        G = creat_social_network(fb_network)\n",
    "        A = nx.adjacency_matrix(G).todense()\n",
    "        A = np.array(A)\n",
    "        n = A.shape[0]\n",
    "        G = nx.from_numpy_matrix(A)\n",
    "\n",
    "        df = pd.DataFrame()\n",
    "        df['id'] = range(n)\n",
    "    #     df['gender'] = list(np.random.choice(a=[0, 1], size=n, p=[0.5, 0.5]))\n",
    "    #     df['age'] = list(np.random.choice(a=[0, 1, 2], size=n, p=[0.6, 0.3, 0.1]))\n",
    "    #     df['education'] = list(np.random.choice(a=[0, 1, 2], size=n, p=[0.6, 0.3, 0.1]))\n",
    "    #     df['income'] = list(np.random.choice(a=[0, 1, 2], size=n, p=[0.6, 0.3, 0.1]))\n",
    "\n",
    "        min_max_norm = lambda x: np.round((x-x.min())/(x.max() - x.min()), 6)\n",
    "        mean_norm = lambda x: np.round((x-x.mean())/(x.max() - x.min()), 6)\n",
    "\n",
    "        df['user_activity'] = min_max_norm(np.array([round(x,6) if x<1 else 1 for x in np.random.normal(loc=0.9, scale=0.5, size=n)]))\n",
    "        df['pol_interest'] = min_max_norm(np.random.normal(loc=0.5, scale=0.5, size=n))\n",
    "        df['privacy_preference'] = min_max_norm(np.random.normal(loc=0.5, scale=0.5, size=n))\n",
    "        df['user_satisfaction'] = [0] * n\n",
    "\n",
    "#         dist = mean_norm(np.random.normal(loc=0.0, scale=1.0, size=n))\n",
    "#         dist = 2.*(dist - np.min(dist))/np.ptp(dist)-1\n",
    "#         df['pol_inclination'] = list(dist)\n",
    "#         #df['pol_inclination'] = list(np.random.choice(a=[-1, -0.1, 0, 0.1, 1], size=n, p=[0.05, 0.20, 0.50, 0.20, 0.05]))\n",
    "        \n",
    "        for i in range(n_issues):\n",
    "            \n",
    "            dist = mean_norm(np.random.normal(loc=0.0, scale=1.0, size=df.shape[0]))\n",
    "            dist = 2.*(dist - np.min(dist))/np.ptp(dist)-1\n",
    "            \n",
    "            df['issue_'+str(i)] = dist\n",
    "            \n",
    "        df['pol_inclination'] = get_agent_pol_inclinations(df, n_issues)\n",
    "            \n",
    "#         node_attr = df.set_index('id').to_dict('index')\n",
    "#         nx.set_node_attributes(G, node_attr)\n",
    "\n",
    "        return df"
   ]
  },
  {
   "cell_type": "code",
   "execution_count": 78,
   "metadata": {},
   "outputs": [],
   "source": [
    "initial_data = get_social_network(6)"
   ]
  },
  {
   "cell_type": "code",
   "execution_count": 79,
   "metadata": {},
   "outputs": [],
   "source": [
    "initial_data.to_csv('data/initial_data_5.csv')"
   ]
  },
  {
   "cell_type": "code",
   "execution_count": 82,
   "metadata": {},
   "outputs": [
    {
     "data": {
      "image/png": "[encoded data removed]",
      "text/plain": [
       "<Figure size 640x480 with 1 Axes>"
      ]
     },
     "metadata": {},
     "output_type": "display_data"
    }
   ],
   "source": [
    "import warnings\n",
    "warnings.filterwarnings('ignore')\n",
    "fig = plt.figure()\n",
    "ax = fig.add_subplot()\n",
    "sns.distplot(initial_data.user_activity,ax=ax)\n",
    "plt.show()"
   ]
  },
  {
   "cell_type": "code",
   "execution_count": 80,
   "metadata": {},
   "outputs": [],
   "source": [
    "initial_data = pd.read_csv('data/initial_data_5.csv')"
   ]
  },
  {
   "cell_type": "code",
   "execution_count": 81,
   "metadata": {},
   "outputs": [
    {
     "data": {
      "text/plain": [
       "0.027419995543451387"
      ]
     },
     "execution_count": 81,
     "metadata": {},
     "output_type": "execute_result"
    }
   ],
   "source": [
    "initial_data.pol_inclination.mean()"
   ]
  },
  {
   "cell_type": "code",
   "execution_count": 104,
   "metadata": {},
   "outputs": [],
   "source": [
    "# min_max_norm = lambda x: np.round((x-x.min())/(x.max() - x.min()), 6)\n",
    "# k =  min_max_norm(np.random.normal(loc=0.5, scale=0.5, size=n))\n",
    "\n",
    "def plot(pd_series):\n",
    "    \n",
    "    fig = plt.figure()\n",
    "    ax = fig.add_subplot()\n",
    "    sns.distplot(pd_series,ax=ax)\n",
    "    plt.show()"
   ]
  },
  {
   "cell_type": "markdown",
   "metadata": {},
   "source": [
    "### Generate Posts"
   ]
  },
  {
   "cell_type": "code",
   "execution_count": 154,
   "metadata": {},
   "outputs": [],
   "source": [
    "def normalize(values, bounds_dlower, bounds_alower, bounds_dupper, bounds_aupper):\n",
    "    return [bounds_dlower + (x - bounds_alower) * (bounds_dupper - bounds_dlower) / (bounds_aupper - bounds_alower) for x in values]\n",
    "\n",
    "def generate_posts(n_posts, n_issues):\n",
    "        \n",
    "    n = int(n_posts/(n_issues*2)) \n",
    "    df = pd.DataFrame()\n",
    "    for i in range(n_issues):\n",
    "\n",
    "        dist = np.random.normal(loc=0.5, scale=0.25, size=n)\n",
    "        dist1 = normalize(dist, 0, min(dist), 1, max(dist))\n",
    "        dist2 = normalize(dist, 0, min(dist), -1, max(dist))\n",
    "        post_conf = pd.DataFrame(dist1 + dist2, columns = ['stance'])\n",
    "        post_conf['issue'] = i\n",
    "        df = pd.concat((df, post_conf), axis = 0)\n",
    "\n",
    "    df = shuffle(df)\n",
    "    return df"
   ]
  },
  {
   "cell_type": "code",
   "execution_count": 155,
   "metadata": {},
   "outputs": [],
   "source": [
    "posts = generate_posts(2000, 6)"
   ]
  },
  {
   "cell_type": "code",
   "execution_count": 156,
   "metadata": {},
   "outputs": [
    {
     "data": {
      "text/plain": [
       "0    332\n",
       "4    332\n",
       "3    332\n",
       "5    332\n",
       "2    332\n",
       "1    332\n",
       "Name: issue, dtype: int64"
      ]
     },
     "execution_count": 156,
     "metadata": {},
     "output_type": "execute_result"
    }
   ],
   "source": [
    "posts.issue.value_counts()"
   ]
  },
  {
   "cell_type": "code",
   "execution_count": 157,
   "metadata": {},
   "outputs": [
    {
     "data": {
      "image/png": "[encoded data removed]",
      "text/plain": [
       "<Figure size 640x480 with 1 Axes>"
      ]
     },
     "metadata": {},
     "output_type": "display_data"
    }
   ],
   "source": [
    "plot(posts[posts['issue'] == 4]['stance'])"
   ]
  },
  {
   "cell_type": "code",
   "execution_count": 158,
   "metadata": {},
   "outputs": [],
   "source": [
    "posts.to_csv('data/posts_1.csv')"
   ]
  },
  {
   "cell_type": "code",
   "execution_count": null,
   "metadata": {},
   "outputs": [],
   "source": []
  },
  {
   "cell_type": "code",
   "execution_count": 159,
   "metadata": {},
   "outputs": [
    {
     "data": {
      "text/plain": [
       "0.19010609077355967"
      ]
     },
     "execution_count": 159,
     "metadata": {},
     "output_type": "execute_result"
    }
   ],
   "source": [
    "import random\n",
    "random.random()"
   ]
  },
  {
   "cell_type": "code",
   "execution_count": null,
   "metadata": {},
   "outputs": [],
   "source": []
  },
  {
   "cell_type": "code",
   "execution_count": null,
   "metadata": {},
   "outputs": [],
   "source": []
  },
  {
   "cell_type": "code",
   "execution_count": null,
   "metadata": {},
   "outputs": [],
   "source": []
  }
 ],
 "metadata": {
  "kernelspec": {
   "display_name": "new_env",
   "language": "python",
   "name": "new_env"
  },
  "language_info": {
   "codemirror_mode": {
    "name": "ipython",
    "version": 3
   },
   "file_extension": ".py",
   "mimetype": "text/x-python",
   "name": "python",
   "nbconvert_exporter": "python",
   "pygments_lexer": "ipython3",
   "version": "3.8.3"
  }
 },
 "nbformat": 4,
 "nbformat_minor": 4
}
