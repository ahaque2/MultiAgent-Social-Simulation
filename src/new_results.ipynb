{
 "cells": [
  {
   "cell_type": "code",
   "execution_count": 1,
   "metadata": {},
   "outputs": [],
   "source": [
    "import pandas as pd\n",
    "import numpy as np\n",
    "import sys"
   ]
  },
  {
   "cell_type": "code",
   "execution_count": 9,
   "metadata": {},
   "outputs": [],
   "source": [
    "df_results1 = pd.read_csv('results/new_results/SE/results_00.csv')\n",
    "df_results2 = pd.read_csv('results/new_results/SE/results_01.csv')"
   ]
  },
  {
   "cell_type": "code",
   "execution_count": 4,
   "metadata": {},
   "outputs": [
    {
     "data": {
      "text/html": [
       "<div>\n",
       "<style scoped>\n",
       "    .dataframe tbody tr th:only-of-type {\n",
       "        vertical-align: middle;\n",
       "    }\n",
       "\n",
       "    .dataframe tbody tr th {\n",
       "        vertical-align: top;\n",
       "    }\n",
       "\n",
       "    .dataframe thead th {\n",
       "        text-align: right;\n",
       "    }\n",
       "</style>\n",
       "<table border=\"1\" class=\"dataframe\">\n",
       "  <thead>\n",
       "    <tr style=\"text-align: right;\">\n",
       "      <th></th>\n",
       "      <th>Unnamed: 0</th>\n",
       "      <th>party_mentioned</th>\n",
       "      <th>post_stance</th>\n",
       "      <th>author_id</th>\n",
       "      <th>num_of_agents_received</th>\n",
       "      <th>num_of_agents_not_received</th>\n",
       "      <th>num_of_spreader_agents</th>\n",
       "      <th>num_of_disinterested_agents</th>\n",
       "      <th>network_polarization</th>\n",
       "      <th>net_polarization2</th>\n",
       "      <th>network_homophily</th>\n",
       "      <th>network_polarity</th>\n",
       "      <th>user_satisfaction</th>\n",
       "      <th>user_activity</th>\n",
       "    </tr>\n",
       "  </thead>\n",
       "  <tbody>\n",
       "    <tr>\n",
       "      <th>0</th>\n",
       "      <td>0</td>\n",
       "      <td>2.0</td>\n",
       "      <td>-0.459769</td>\n",
       "      <td>2168</td>\n",
       "      <td>3159</td>\n",
       "      <td>879</td>\n",
       "      <td>1257</td>\n",
       "      <td>1902</td>\n",
       "      <td>0.120128</td>\n",
       "      <td>0.063496</td>\n",
       "      <td>0.003255</td>\n",
       "      <td>-0.043992</td>\n",
       "      <td>0.000014</td>\n",
       "      <td>0.852872</td>\n",
       "    </tr>\n",
       "    <tr>\n",
       "      <th>1</th>\n",
       "      <td>1</td>\n",
       "      <td>5.0</td>\n",
       "      <td>-0.455548</td>\n",
       "      <td>1192</td>\n",
       "      <td>3608</td>\n",
       "      <td>430</td>\n",
       "      <td>1565</td>\n",
       "      <td>2043</td>\n",
       "      <td>0.119870</td>\n",
       "      <td>0.063817</td>\n",
       "      <td>0.003582</td>\n",
       "      <td>-0.043114</td>\n",
       "      <td>0.000036</td>\n",
       "      <td>0.852894</td>\n",
       "    </tr>\n",
       "    <tr>\n",
       "      <th>2</th>\n",
       "      <td>2</td>\n",
       "      <td>4.0</td>\n",
       "      <td>-0.672528</td>\n",
       "      <td>1192</td>\n",
       "      <td>3604</td>\n",
       "      <td>434</td>\n",
       "      <td>1310</td>\n",
       "      <td>2294</td>\n",
       "      <td>0.119532</td>\n",
       "      <td>0.064371</td>\n",
       "      <td>0.003563</td>\n",
       "      <td>-0.042146</td>\n",
       "      <td>0.000051</td>\n",
       "      <td>0.852909</td>\n",
       "    </tr>\n",
       "    <tr>\n",
       "      <th>3</th>\n",
       "      <td>3</td>\n",
       "      <td>3.0</td>\n",
       "      <td>-0.597208</td>\n",
       "      <td>12</td>\n",
       "      <td>3794</td>\n",
       "      <td>244</td>\n",
       "      <td>1389</td>\n",
       "      <td>2405</td>\n",
       "      <td>0.119270</td>\n",
       "      <td>0.064429</td>\n",
       "      <td>0.003944</td>\n",
       "      <td>-0.041565</td>\n",
       "      <td>0.000067</td>\n",
       "      <td>0.852926</td>\n",
       "    </tr>\n",
       "    <tr>\n",
       "      <th>4</th>\n",
       "      <td>4</td>\n",
       "      <td>4.0</td>\n",
       "      <td>-0.698781</td>\n",
       "      <td>2021</td>\n",
       "      <td>1</td>\n",
       "      <td>4037</td>\n",
       "      <td>0</td>\n",
       "      <td>1</td>\n",
       "      <td>0.119269</td>\n",
       "      <td>0.064428</td>\n",
       "      <td>0.003944</td>\n",
       "      <td>-0.041562</td>\n",
       "      <td>0.000086</td>\n",
       "      <td>0.852926</td>\n",
       "    </tr>\n",
       "  </tbody>\n",
       "</table>\n",
       "</div>"
      ],
      "text/plain": [
       "   Unnamed: 0  party_mentioned  post_stance  author_id  \\\n",
       "0           0              2.0    -0.459769       2168   \n",
       "1           1              5.0    -0.455548       1192   \n",
       "2           2              4.0    -0.672528       1192   \n",
       "3           3              3.0    -0.597208         12   \n",
       "4           4              4.0    -0.698781       2021   \n",
       "\n",
       "   num_of_agents_received  num_of_agents_not_received  num_of_spreader_agents  \\\n",
       "0                    3159                         879                    1257   \n",
       "1                    3608                         430                    1565   \n",
       "2                    3604                         434                    1310   \n",
       "3                    3794                         244                    1389   \n",
       "4                       1                        4037                       0   \n",
       "\n",
       "   num_of_disinterested_agents  network_polarization  net_polarization2  \\\n",
       "0                         1902              0.120128           0.063496   \n",
       "1                         2043              0.119870           0.063817   \n",
       "2                         2294              0.119532           0.064371   \n",
       "3                         2405              0.119270           0.064429   \n",
       "4                            1              0.119269           0.064428   \n",
       "\n",
       "   network_homophily  network_polarity  user_satisfaction  user_activity  \n",
       "0           0.003255         -0.043992           0.000014       0.852872  \n",
       "1           0.003582         -0.043114           0.000036       0.852894  \n",
       "2           0.003563         -0.042146           0.000051       0.852909  \n",
       "3           0.003944         -0.041565           0.000067       0.852926  \n",
       "4           0.003944         -0.041562           0.000086       0.852926  "
      ]
     },
     "execution_count": 4,
     "metadata": {},
     "output_type": "execute_result"
    }
   ],
   "source": [
    "df_results.head()"
   ]
  },
  {
   "cell_type": "code",
   "execution_count": 14,
   "metadata": {},
   "outputs": [
    {
     "name": "stderr",
     "output_type": "stream",
     "text": [
      "No artists with labels found to put in legend.  Note that artists whose label start with an underscore are ignored when legend() is called with no argument.\n"
     ]
    },
    {
     "data": {
      "image/png": "[encoded data removed]",
      "text/plain": [
       "<Figure size 640x480 with 1 Axes>"
      ]
     },
     "metadata": {},
     "output_type": "display_data"
    }
   ],
   "source": [
    "import pylab as plt\n",
    "exp = [df_results2['user_activity'], df_results2['network_polarization']]\n",
    "# exp = [agent_polIncl['2']]\n",
    "fig, ax = plt.subplots()\n",
    "for i, e in enumerate(exp):\n",
    "    temp = e\n",
    "    plt.plot(range(len(temp)), temp)\n",
    "plt.legend()\n",
    "plt.show()"
   ]
  },
  {
   "cell_type": "code",
   "execution_count": 15,
   "metadata": {},
   "outputs": [
    {
     "data": {
      "text/plain": [
       "0.860421    56\n",
       "0.859400    47\n",
       "0.859298    40\n",
       "0.859180    40\n",
       "0.861901    40\n",
       "            ..\n",
       "0.857481     1\n",
       "0.857553     1\n",
       "0.857651     1\n",
       "0.857684     1\n",
       "0.852882     1\n",
       "Name: user_activity, Length: 676, dtype: int64"
      ]
     },
     "execution_count": 15,
     "metadata": {},
     "output_type": "execute_result"
    }
   ],
   "source": [
    "df_results2.user_activity.value_counts()"
   ]
  },
  {
   "cell_type": "code",
   "execution_count": null,
   "metadata": {},
   "outputs": [],
   "source": []
  }
 ],
 "metadata": {
  "kernelspec": {
   "display_name": "new_env",
   "language": "python",
   "name": "new_env"
  },
  "language_info": {
   "codemirror_mode": {
    "name": "ipython",
    "version": 3
   },
   "file_extension": ".py",
   "mimetype": "text/x-python",
   "name": "python",
   "nbconvert_exporter": "python",
   "pygments_lexer": "ipython3",
   "version": "3.8.3"
  }
 },
 "nbformat": 4,
 "nbformat_minor": 4
}
